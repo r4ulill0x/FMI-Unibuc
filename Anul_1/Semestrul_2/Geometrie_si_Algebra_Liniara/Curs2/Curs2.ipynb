{
 "cells": [
  {
   "cell_type": "markdown",
   "id": "e7bf6b0b-c684-4f35-890d-a25a9fce0f17",
   "metadata": {},
   "source": [
    "## Spații vectoriale"
   ]
  },
  {
   "cell_type": "markdown",
   "id": "363073b2-6217-44a5-9520-c53cf7e8993b",
   "metadata": {},
   "source": [
    "### Definiție"
   ]
  },
  {
   "cell_type": "markdown",
   "id": "2648006f-f13c-4037-8672-8bba8d1012a9",
   "metadata": {},
   "source": [
    "### Un spațiu vectorial sau spațiu liniar este o mulțime $L$, ale cărei elemente sînt numite vectori pentru care am definit două operații:\n",
    "   - suma, care a asociază la doi vectori un al treilea $\\mathbf{x}+\\mathbf{y}=\\mathbf{z};$\n",
    "   - înmulțirea, carea asociază unui vector și unui un număr real un alt vector $\\alpha\\mathbf{x}=\\mathbf{y}.$\n",
    "   \n",
    "Aceste operații satisfac un anumit număr de proprietăți:\n",
    "   - $\\mathbf{x}+\\mathbf{y}=\\mathbf{y}+\\mathbf{x};$\n",
    "   - $(\\mathbf{x}+\\mathbf{y})+\\mathbf{z}=\\mathbf{x}+(\\mathbf{y}+\\mathbf{z});$\n",
    "   - Există un vector $0 \\in L$ cu proprietatea că pentru orice vector $\\mathbf{x}$: $0+\\mathbf{x}=\\mathbf{x}+0=\\mathbf{x};$\n",
    "   - Pentru orice vector $\\mathbf{x}$ există un vector $-\\mathbf{x}$ cu proprietatea că $\\mathbf{x}-\\mathbf{x}=0;$\n",
    "   - $\\alpha(\\mathbf{x}+\\mathbf{y})=\\alpha\\mathbf{x}+\\alpha\\mathbf{y};$\n",
    "   - $(\\alpha+\\beta)\\mathbf{x}=\\alpha\\mathbf{x}+\\beta\\mathbf{x};$\n",
    "   - $(\\alpha\\beta)\\mathbf{x}=\\alpha(\\beta\\mathbf{x});$\n",
    "   - $1x=x$ și $0x=0;$\n",
    "   \n",
    "Scalarii sînt numere reale, dar la fel pot fi luate și numere complexe sau dintr-un corp oarecare. Cu unele excepții toate rezultatele prezentate vor fi valabile pentru orice corp de scalari.\n",
    "\n",
    "Exemple de spații vectoriale:\n",
    "  - Mulțimea vectorilor din plan sau spațiu;\n",
    "  - Cu operațiile definite pentru matrice obținem o structură de $\\mathbb{K}-$spațiu vectorial pe mulțimea matricelor de tip $(m,n)$, notată $M_{m,n}(\\mathbb{K})$, unde $\\mathbb{K}$ este un corp;\n",
    "  - Dacă matricele au doar o linie sau doar o coloană obținem spțiul $\\mathbb{K}^n$;\n",
    "  - $L$, spațiul funcțiilor continue definite pe intervalul $[a,b]$ cu valori reale sau complexe;\n",
    "  - $L$, mulțimea tuturor polinoamelor cu coeficienți în corpul $\\mathbb{K}$;\n",
    "\n",
    "O submulțime $L' \\subset L$ a unui spațiu vectorial se numește subspațiu dacă pentru orice $\\mathbf{x},\\mathbf{y} \\in L'$, $\\mathbf{x}+\\mathbf{y} \\in L'$ și pentru orice scalar $\\alpha$ și orice $\\mathbf{x} \\in L'$, \n",
    "$\\alpha\\mathbf{x} \\in L'.$ \n",
    "\n",
    "  - $L$ este subspațiu în el însuși. De asemenea $\\{0\\}$ este subspațiu în $L$, numit spațiul nul;\n",
    "  - Mulțimea soluțiilor unui sistem omogen este subspațiu vectorial in $\\mathbb{K}^n.$\n",
    "\n",
    "Spunem că un spațiu $L$ este suma subspațiilor $L_1,\\dots,L_k$, dacă orice vector $\\mathbf{x}\\in L$ se poate scrie ca o sumă $\\mathbf{x}=\\mathbf{x}_1+\\dots+\\mathbf{x}_k$ cu $\\mathbf{x}_j \\in L_j$. Scriem \n",
    "$L=L_1+\\dots + L_k$. Dacă descompunerea este unică, atunci spunem că $L$ este suma directă a subspațiilor $L_1,\\dots,L_k$ și scriem $L=L_1 \\oplus \\dots \\oplus L_k.$\n",
    "\n",
    "**Lemă** Presupunem că spațiul $L$ este suma subspațiilor $L_1,\\dots,L_k$ pentru ca suma să fie directă este necesar și suficient ca $\\mathbf{x}_1+\\dots+\\mathbf{x}_k=0$ dacă și numai dacă $\\mathbf{x}_1=\\dots=\n",
    "\\mathbf{x}_k=0.$ \n",
    "\n",
    "Se observă că dacă $L_1,\\dots,L_k$ sînt subspații, atunci $L_1 \\cap \\dots\\cap L_k$ este subspațiu. Cu această observație avem un criteriu alternativ pentru suma directă a $2$ subspații:\n",
    "\n",
    "**Corolar** Presupunem că $L=L_1+L_2$. $L$ este sumă directă dacă și numai dacă $L_1 \\cap L_2 =\\left\\{0\\right\\}.$\n",
    "\n",
    "Un exemplu important de subspațiu vectorial este mulțimea soulțiilor unui sistem omogen."
   ]
  },
  {
   "cell_type": "markdown",
   "id": "2d8326bf-7e2b-45b2-968f-5a8c20a5b61b",
   "metadata": {},
   "source": [
    "### Baze și dimensiune"
   ]
  },
  {
   "cell_type": "markdown",
   "id": "a6c1eab5-c5b7-4d49-9d76-1df642c21bfe",
   "metadata": {},
   "source": [
    "Am văzut deja noțiunea de combinație liniară pentru vectori linie. Această noțiune se transferă la spații vectoriale:\n",
    "\n",
    "**Definiție** Fie $\\mathbf{x}_1,\\dots,\\mathbf{x}_m \\in L.$ Vectorul $\\mathbf{y} \\in L$ se numește combinație liniară a vectorilor $\\mathbf{x}_1,\\dots,\\mathbf{x}_m$ dacă $\\mathbf{y}= \\alpha_1\\mathbf{x}_1+\\dots+\n",
    "\\alpha_m\\mathbf{x}_m$ pentru niște scalari $\\alpha_1,\\dots,\\alpha_m\\in \\mathbb{K}$. \n",
    "\n",
    "Se vede că pentru o mulțime de vectori fixați $\\mathbf{x}_1,\\dots,\\mathbf{x}_m$ toate combinațiile lor liniare formează un subspațiu vectorial numit acoperirea liniară a vectorilor $\\mathbf{x}_1,\\dots,\\mathbf{x}_m$,\n",
    "notată $\\langle \\mathbf{x}_1,\\dots,\\mathbf{x}_m \\rangle.$ Este clar că $\\langle \\mathbf{x}_1,\\dots,\\mathbf{x}_m \\rangle=\\langle\\mathbf{x}_1\\rangle+\\dots+\\langle\\mathbf{x}_m\\rangle.$ \n",
    "\n",
    "**Definiție** Vectorii $\\mathbf{x}_1,\\dots,\\mathbf{x}_n \\in L$ se numesc **liniar dependenți** dacă există o combinație liniară egală cu $0$, dar cu unii dintre coeficienții $\\alpha_1,\\dots,\\alpha_n$ nenuli. Dacă \n",
    "vectorii nu sînt liniar-dependenți atunci spunem că sînt **liniar-independenți**.\n",
    "\n",
    "Dacă vectorii $\\mathbf{x}_1,\\dots,\\mathbf{x}_n$ sînt liniar-independenți, atunci $\\langle \\mathbf{x}_1,\\dots,\\mathbf{x}_m \\rangle=\\langle\\mathbf{x}_1\\rangle\\oplus\\dots\\oplus\\langle\\mathbf{x}_m\\rangle.$ Se observă că \n",
    "vectorii $\\mathbf{x}_1,\\dots,\\mathbf{x}_n$ sînt liniar-dependenți dacă și numai dacă unul dintre ei se scrie ca o combinație liniară a celorlalți.\n",
    "\n",
    "Putem da acum o definiție foarte importantă:\n",
    "\n",
    "**Definiție** Se numește **dimensiunea** spațiului vectorial $L$ cel mai mare număr de vectori liniar-independenți, dacă există. Dimensiunea lui $L$ va fi notată dim$L$ și dacă numărul maxim de vectori liniar-\n",
    "independenți este finit, atunci spunem că $L$ este finit-dimensional, iar dacă nu este finit, spunem că $L$ este infinit-dimensional.\n",
    "\n",
    "Un spațiu vectorial de de dimensiune $1$ va fi numit dreaptă, iar unul de dimensiune $2$ va fi numit plan. \n",
    "\n",
    "Mulțimea polinoamelor de grad cel mult $n$ este un spațiu vectorial de dimensiune $n+1$, iar mulțimea $\\mathbb{K}[X]$ este infinit dimensională.\n",
    "\n",
    "E clar că dimensiunea unui subspațiu nu poate depăși dimensiunea spațiului total. Mai precis avem următoarea teoremă:\n",
    "\n",
    "**Teoremă** Dacă $L' \\subset L$ și dim$L'$=dim$L$ atunci $L'=L$.\n",
    "\n",
    "Dacă dimensiunea lui $L$ este finită și $L'$ este un subspațiu cu dim$L'$=dim$L-1$, atunci $L'$ se numește hiperplan. Definiția noastră a dimensiunii are problema că nu este foarte eficientă. Teoretic trebuie să luăm \n",
    "toate sistemele $\\mathbf{x}_1,\\dots,\\mathbf{x}_n$ și să vedem dacă sînt liniar-independente sau nu. Studiem mai în amănunt noțiunea de dimensiune pentru a găsi o metodă de calcul mai eficientă.\n",
    "\n",
    "**Definiție** Vectorii $\\mathbf{e}_1,\\dots\\mathbf{e}_n$ formează o bază a lui $L$ dacă sînt liniar-independenți și orice vector se poate scrie ca o combinație liniară a lor.\n",
    "\n",
    "Pentru orice vector $\\mathbf{x}$ avem o descompunere $\\mathbf{x}=\\alpha_1\\mathbf{e}_1+\\dots+\\alpha_n\\mathbf{e}_n$. Această descompunere este <u> unică </u>. Scalarii $\\alpha_1,\\dots,\\alpha_n$ se numesc coordonatele lui $\\mathbf{x}$ în raport cu baza.\n",
    "\n",
    "Dacă vectorii $\\mathbf{x}=a_1\\mathbf{e}_1+\\dots+a_n\\mathbf{e}_n$ și $\\mathbf{y}=b_1\\mathbf{e}_1+\\dots+b_n\\mathbf{e}_n$, atunci $\\mathbf{x}+\\mathbf{y}=(a_1+b_1)\\mathbf{e}_1+\\dots+(a_n+b_n)\\mathbf{e}_n$ și \n",
    "$\\alpha\\mathbf{x}=(\\alpha a_1)\\mathbf{e}_1+\\dots+(\\alpha a_n)\\mathbf{x}_n.$ \n",
    "\n",
    "Din definiția bazei rezultă că într-un spațiu $L$ de dimensiune $n$ orice mulțime $\\mathbf{e}_1,\\dots,\\mathbf{e}_n$ de vectori liniar-independenți este o bază. Mai general avem următorul rezultat:\n",
    "\n",
    "**Teoremă**. Dacă vectorii $\\mathbf{e}_1,\\dots,\\mathbf{e}_m$ sînt liniar-independenți,atunci pot fi completați la o bază, adică există $\\mathbf{e}_{m+1},\\dots,\\mathbf{e}_n$ astfel încît  $\\mathbf{e}_1,\\dots,\n",
    "\\mathbf{e}_n$ este o bază a lui $L$.\n",
    "\n",
    "**Corolar**. Pentru orice subspațiu propriu $L' \\subset L$ există un subspațiu $L''$ astfel încît $L=L' \\oplus L''$.\n",
    "\n",
    "Rezultatul central este următorul:\n",
    "\n",
    "**Teoremă** Dacă spațiul vectorial $L$ are o bază cu $n$ vectori, atunci dim$L=n$.\n",
    "\n",
    "**Teoremă** dim$\\langle \\mathbf{x}_1,\\dots,\\mathbf{x}_m\\rangle$ este egală cu maximul numărului de vectori liniar-independenți dintre $\\mathbf{x}_1,\\dots,\\mathbf{x}_m$.\n",
    "\n",
    "**Exemplu**: Fie $M$ o mulțime oarecare. Definim spațiul vectorial $F(M)=\\left\\{f:M \\to \\mathbf{K}\\right\\}$ cu operațiile $(f_1+f_2)(x)=f_1(x)+\n",
    "f_2(x)$ și $(\\alpha f)(x)=\\alpha(f(x))$. Presupunem că $M$ este finită, atunci dacă definim funcțiile $\\delta_x(y)=1$ dacă $y=x$ și $0$ dacă \n",
    "$y \\neq x$, atunci mulțimea $\\left\\{\\delta_x | x \\in M\\right\\}$ formează o bază în $F(M)$ și deci $\\text{dim}(F(M)) = |M|.$\n",
    "\n",
    "**Teoremă** Dacă $L=L' \\oplus L''$ atunci dim $L=$dim $L+$dim $L''$.\n",
    "\n",
    "Cazul general al teoremei precedente este teorema lui Grassmann:\n",
    "\n",
    "**Teoremă** dim $(L_1+L_2)=$dim $L_1+$dim $L_2-$dim $(L_1\\cap L_2)$.\n",
    "\n",
    "Putem folosi teoria determinanților ca să calculăm dimensiunea unui (sub)spațiu vectorial. Fie $\\mathbf{e}_1,\\dots,\\mathbf{e}_n$ o bază în $L$, fie $\\mathbf{x}_1,\\dots,\\mathbf{x}_m \\in L$. Presupunem că\n",
    "$\\mathbf{x}_i=\\sum_{j=1}^n a_{ji}\\mathbf{e}_j$. Atunci \n",
    "$$\n",
    "\\text{dim }\\langle \\mathbf{x}_1,\\dots,\\mathbf{x}_m \\rangle= \\text{rang } \\left(\\begin{matrix}a_{11} & \\dots & a_{1m} \\\\ \n",
    "\\vdots & \\ddots & \\vdots \\\\ \n",
    "a_{n1} & \\dots & a_{nm}\\end{matrix}\\right).\n",
    "$$"
   ]
  },
  {
   "cell_type": "markdown",
   "id": "209416d9-c385-48a1-8eb0-095c3199ab3e",
   "metadata": {},
   "source": [
    "## Aplicații liniare"
   ]
  },
  {
   "cell_type": "markdown",
   "id": "4f6f8674-b2bb-4858-aabb-2980a0443a3a",
   "metadata": {},
   "source": [
    "Noțiunea de aplicație liniară generalizează noțiunea de funcție liniară pe care o cunoaștem. Fie $L_1$ și $L_2$ spații vectoriale. O aplicație $T:L_1 \\to L_2$ se numește liniară dacă\n",
    "  - $T(\\mathbf{x}+\\mathbf{y})=T(\\mathbf{x})+T(\\mathbf{y});$\n",
    "  - $T(\\alpha \\mathbf{x})=\\alpha T(\\mathbf{x}).$\n",
    " \n",
    "O aplicație liniară mai este numită și operator sau endomorfism dacă $L_1=L_2$ .\n",
    "\n",
    "Exemple de aplicații liniare:\n",
    "   - Aplicația identică $L \\mapsto L$ este liniară;\n",
    "   - Dacă $L=\\mathbb{K}[X]$ atunci $P(X) \\mapsto P'(X)$ este liniară;\n",
    "   - Presupunem că $L=L_1 \\oplus L_2$. Atunci orice vector $\\mathbf{x}=\\mathbf{x_1}+\\mathbf{x}_2$ cu $\\mathbf{x}_i \\in L_i$ unice. Aplicația $P : L \\to L_1$, $P(\\mathbf{x})=\\mathbf{x}_1$ este liniară și se numește proiecția pe $L_1$ paralelă cu $L_2$.\n",
    "\n",
    "Presupunem acum că $L_1$ și $L_2$ sînt spații finit dimensionale și că în fiecare am fixat cîte o bază $\\{\\mathbf{e}_1,\\dots,\\mathbf{e}_n\\}$, respectiv $\\{\\mathbf{f}_1,\\dots,\\mathbf{f}_m\\}$. Fie $T:L_1 \\to L_2$ o aplicație \n",
    "liniară. Orice $\\mathbf{x}\\in L_1$ se descompune ca $\\mathbf{x}=a_1\\mathbf{e}_1+\\dots+a_n\\mathbf{e}_n$ și $T(\\mathbf{x})=a_1T(\\mathbf{e}_1)+\\dots+a_nT(\\mathbf{e}_n).$ Vectorii $T(\\mathbf{e}_1),\\dots,T(\\mathbf{e}_n)$ \n",
    "aparțin lui $L_2$ și se descompun în funcție de $\\mathbf{f}_1,\\dots,\\mathbf{f}_m$. Adică $T(\\mathbf{e}_1)=a_{11}\\mathbf{f}_1+a_{21}\\mathbf{f}_2+\\dots+a_{m1}\\mathbf{f}_m$ etc. Pe de altă parte $T(\\mathbf{x})=\n",
    "b_1\\mathbf{f}_1+\\dots+b_m\\mathbf{f}_m$. Făcînd substituția obținem\n",
    "$$\n",
    "\\left(\\begin{matrix}b_1 \\\\ \\vdots \\\\ b_m\\end{matrix}\\right)=\\left(\\begin{matrix}a_{11} & \\ldots & a_{1n} \\\\ \\vdots & \\ddots & \\vdots \\\\ a_{m1} & \\dots & a_{mn}\\end{matrix}\\right)\n",
    "\\left(\\begin{matrix}a_1 \\\\ \\vdots \\\\ a_n\\end{matrix}\\right).\n",
    "$$\n",
    "\n",
    "Matricea $A$ se numește matricea operatorului $T$ în raport cu bazele $\\mathbf{e}_1,\\dots,\\mathbf{e}_n$, respectiv $\\mathbf{f}_1,\\dots,\\mathbf{f}_m$. Avem deci că de îndată ce am fixat două baze un operator este unic determinat de matricea sa în raport cu aceste baze și reciproc dacă avem o matrice de tip $(m,n)$ atunci aceasta definește o aplicație liniară.\n",
    "\n",
    "Pentru două aplicații liniare $T_1,T_2:L \\to M$ definim $(T_1+T_2)(\\mathbf{x})=T_1(\\mathbf{x})+T_2(\\mathbf{x})$ și $(\\alpha T_1)(\\mathbf{x})=\\alpha(T_1(\\mathbf{x})).$ Dacă fixăm baze în $L$ și $M$ și considerăm \n",
    "matricele celor $2$ operatori $A$, respectiv $B$ atunci matricea lui $T_1+T_2$ este $A+B$ și cea a lui $\\alpha T$ este $\\alpha A.$\n",
    "\n",
    "Să luăm acum două aplicații liniare $T_1:L_1 \\to L_2$ și $T_2:L_2 \\to L_3$. Compunerea lor $T=T_2 \\circ T_1:L_1 \\to L_3$. Dacă alegem cîte o bază\n",
    "$\\mathbf{e}_1,\\dots,\\mathbf{e}_k$, $\\mathbf{f}_1,\\dots,\\mathbf{f}_m$, respectiv $\\mathbf{g}_1,\\dots,\\mathbf{g}_n$ în fiecare spațiu. Fie de asemenea $A_1$ matricea lui $T_1$ și $A_2$ matricea lui $T_2.$ Atunci matricea $A$ a lui $T$ în raport cu bazele $\\mathbf{e}_1,\\dots,\\mathbf{e}_k$,respectiv $\\mathbf{g}_1,\\dots,\\mathbf{g}_n$ satisface $A=A_2A_1$."
   ]
  },
  {
   "cell_type": "markdown",
   "id": "8cd9b6a7-6469-4417-b19d-307aef47479d",
   "metadata": {},
   "source": [
    "### Schimbarea de reper"
   ]
  },
  {
   "cell_type": "markdown",
   "id": "c5cc255b-c36e-4722-8df1-22a9807a103f",
   "metadata": {},
   "source": [
    "Fie $\\mathbf{e}_1,\\dots,\\mathbf{e}_n$ o bază a spațiului $L$. Luăm o altă bază $\\mathbf{e_1}',\\dots,\\mathbf{e}_n'$ a lui $L$. Orice vector se scrie ca\n",
    "$\\mathbf{x}=a_1\\mathbf{e}_1+\\dots+a_n\\mathbf{e}_n$ și de asemenea $\\mathbf{x}=a_1'\\mathbf{e}_1'+\\dots+a_n'\\mathbf{e}_n'.$ Fiecare \n",
    "$\\mathbf{e}_i'=c_{1i}\\mathbf{e}_1+\\dots+c_{ni}\\mathbf{e}_n$ și la fel $\\mathbf{e}_i=c_{1i}'\\mathbf{e}_1'+\\dots+c_{ni}'\\mathbf{e}_n'.$ Dacă notăm cu $C$, respectiv $C'$ matricele cu componentele $c_{ij}$, respectiv $c_{ij}'$ avem\n",
    "$$\n",
    "\\left(\\begin{matrix}a_1' \\\\ \\vdots \\\\ a_n'\\end{matrix}\\right)= C'\\left(\\begin{matrix}a_1 \\\\ \\vdots \\\\ a_n\\end{matrix}\\right)\n",
    "$$\n",
    "și \n",
    "$$\n",
    "\\left(\\begin{matrix}a_1 \\\\ \\vdots \\\\ a_n\\end{matrix}\\right)= C\\left(\\begin{matrix}a_1' \\\\ \\vdots \\\\ a_n'\\end{matrix}\\right).\n",
    "$$\n",
    "\n",
    "Cele două matrice $C$ și $C'$ sînt inverse una față de cealaltă, adică $CC'=C'C=I_n$.\n",
    "\n",
    "Luăm acum o aplicație liniară $T:L \\to M$, iar în fiecare spațiu luăm cîte o bază $\\mathbf{e}_1,\\dots,\\mathbf{e}_m$,$\\mathbf{e}_1',\\dots,\\mathbf{e}_m'$ \n",
    "respectiv $\\mathbf{f}_1,\\dots,\\mathbf{f}_n$ și $\\mathbf{f}_1',\\dots,\\mathbf{f}_n'$. Fie $A$, respectiv $A'$ matricele lui $T$ în raport cu fiecare pereche de baze. De asemenea fie $C$ matricea de trecere de la $\\mathbf{e}_1',\\dots,\\mathbf{e}_m'$ la $\\mathbf{e}_1,\\dots,\\mathbf{e}_m$ și $D$ matricea de trecere de la $\\mathbf{f}_1',\\dots,\\mathbf{f}_n'$ la $\\mathbf{f}_1,\\dots,\\mathbf{f}_n$. Atunci $A'C^{-1}=D^{-1}A$, sau echivalent $A'=D^{-1}AC$. Aceasta este \n",
    "formula de schimbare a matricei la schimbarea bazei. \n",
    "\n",
    "Cînd $n=m$ putem trece la determinanți și ținînd cont de proprietatea de multiplicitate a acestora avem că $det(A')=\\det(A)\\frac{det(C)}{det(D)}.$ \n",
    "Deci dacă matricea lui $T$ este nesingulară pentru două baze, va fi nesingulară pentru orice alte două baze.\n",
    "\n",
    "În cazul special în care $T$ este endomorfism, atunci $D=C$ și $A'=C^{-1}AC$ și prin urmare $det(A')=det(A)$. Astfel putem defini determinantul unui \n",
    "endomorfism $T:L\\to L$, ca $det(A)$ pentru o anumită bază, dar care nu depinde de baza aleasă."
   ]
  },
  {
   "cell_type": "markdown",
   "id": "0a7c6b77-55b8-4c73-9c91-09d159c4b08c",
   "metadata": {},
   "source": [
    "### Izomorfisme de spații vectoriale. Rangul unei aplicații liniare"
   ]
  },
  {
   "cell_type": "markdown",
   "id": "07901945-b838-422d-98cb-ff3003af1d90",
   "metadata": {},
   "source": [
    "O aplicație liniară $T:L \\to M$ se numește izomorfism dacă este bijectivă. Se vede imediat că $T^{-1}$ este tot o aplicație liniară. Avem un rezulat \n",
    "fundamental:\n",
    "\n",
    "**Teoremă** Două spații liniare $L$ și $M$ sînt izomorfe dacă și numai dacă $\\text{dim }L=\\text{dim }M$.\n",
    "\n",
    "**Exemplu** Fie $L \\subset \\mathbb{K}^n$ mulțimea soluțiilor unui sistem liniar omogen $A\\mathbf{x}=0$. Dacă $r=\\text{rang }A$ atunci $L \\simeq \n",
    "\\mathbb{K}^{n-r}$.\n",
    "\n",
    "Orice izomorfism de spații vectoriale este nesingular și reciproc, dacă $T:L \\to L$ este nesingular, atunci $T$ este izomorfism.\n",
    "\n",
    "Studiind mai atent  definiția izomorfismelor sîntem conduși la următoare noțiune:\n",
    "\n",
    "**Definiție.** Fie $T:L \\to M$ un operator. $\\text{Ker }T =\\left\\{\\mathbf{x} \\in L | T(\\mathbf{x})=0\\right\\}$. Acest subspațiu se numește nucleul lui $T$.\n",
    "\n",
    "Pentru o aplicație liniară $T$ nucleul este un spațiu al lui $L$ și la fel imaginea $T(L)$ este un subspațiu al lui $M$.\n",
    "\n",
    "**Teoremă** Un operator $T:L \\to M$  între spații de aceeași dimensiune este izomorfism dacă și numai dacă $\\text{Ker }T=\\left\\{0\\right\\}$.\n",
    "\n",
    "**Teoremă** Un operator $T:L \\to M$  între spații de aceeași dimensiune este izomorfism dacă și numai dacă $T(L)=M$.\n",
    "\n",
    "Presupunem mai departe că $T: L \\to M$ este o aplicație liniară între spații vectoriale finit-dimensionale. Se numește **rangul** lui $T$ dimensiunea lui $T(L)$. Evident $\\text{rang } T \\leq n=\\text{dim } M$.\n",
    "\n",
    "**Teoremă** Fie $T: L \\to M$ o aplicație liniară de rang $r$. Atunci există cîte o bază în $L$, respectiv $M$ astfel că matricea lui $T$ este de forma\n",
    "$$\n",
    "\\left(\\begin{matrix}I_r & 0 \\\\ 0 & 0 \\end{matrix}\\right),\n",
    "$$\n",
    "unde $I_r$ este matricea identică de dimensiune $r$.\n",
    "\n",
    "Acest rezultat este echivalent cu egalitatea $\\text{dim }\\text{Ker } T + \\text{dim } T(L)=\\text{dim } L$."
   ]
  },
  {
   "cell_type": "markdown",
   "id": "8863ac09-b653-446b-9dfb-ec9a821513b4",
   "metadata": {},
   "source": [
    "## Dualitate\n",
    "\n",
    "Studiem acum transformările liniare $T:L \\to \\mathbf{K}$.  Acestea formează un spațiu vectorial, notat cu $L^*$, numit spațiul dual.\n",
    "\n",
    "**Teoremă** Dacă $L$ este finit dimensional, atunci  $\\text{dim}(L^*)=\\text{dim}(L).$\n",
    "\n",
    "Fie $\\left\\{e_1,\\dots,e_n\\right\\}$ o bază în $L$. Atunci există o bază $\\left\\{e^*_1,\\dots,e^*_n\\right\\}$  în $L^*$, definită prin $e^*_i(e_j)=\\delta_{ij}.$\n",
    "\n",
    "Putem merge mai departe și definim al doilea spațiu dual $L^{**}:=(L^*)^*.$ \n",
    "\n",
    "**Teoremă** Există un izomorfism $F:L \\to L^{**}$, care nu depinde de alegerea unei baze.\n",
    "\n",
    "Fie $L' \\subset L$ un subspațiu vectorial. Notăm cu $\\text{Ann}(L') = \\left\\{f \\in L^* | f(x) = 0, \\forall x \\in L'\\right\\},$ numit anihilatorul lui $L'$. Se vede că $Ann(L')$ este un subspațiu vectorial. \n",
    "\n",
    "**Teoremă** $\\text{dim}\\left(\\text{Ann}(L')\\right)=\\text{dim}(L)-\\text{dim}(L').$\n",
    "\n",
    "Dacă $T:L \\to M$ este o aplicație liniară, aceasta induce o aplicație liniară $T^* : M^* \\to L^*$. Dacă $A$ este matricea lui $T$ în raport cu niște baze, atunci matricea lui $T^*$ în raport cu bazele duale este transpusa lui $A$, notată $A^*.$"
   ]
  },
  {
   "cell_type": "markdown",
   "id": "21bb1333-1980-482a-a4b7-b61cf3e779fc",
   "metadata": {},
   "source": [
    "## Subspații invariante. Vectori și valori proprii."
   ]
  },
  {
   "cell_type": "markdown",
   "id": "e250cb9a-8b8e-4ade-b2ee-38e87ecdfc3b",
   "metadata": {},
   "source": [
    "În această parte studiem endomorfisme $T:L \\to L$. Am văzut că la schimbarea bazei matricea lui $T$ se transformă după formula $A'=C^{-1}AC$. Două matrice\n",
    "care satisfac această egalitate se numesc asemenea. Se vede că două matrice asemenea sînt asociate aceluiași endomorfism.\n",
    "\n",
    "**Definiție** Un subspațiu $L' \\subset L$ se numește invariant pentru $T$, dacă pentru orice $\\mathbf{x} \\in L'$, $T(\\mathbf{x}) \\in L'$.\n",
    "\n",
    "Evident că dacă $L'$ este un spațiu invariant, atunci $T$ induce un endomorfism $T':L' \\to L'$. Dacă luăm o bază $\\mathbf{e}_1,\\dots,\\mathbf{e}_m$ a lui \n",
    "$L'$ și o completăm la o bază $\\mathbf{e}_1,\\dots,\\mathbf{e}_n$ a a lui $L$, atunci matricea lui $T$ este de forma\n",
    "$$\n",
    "\\left(\\begin{matrix}A' & B ' \\\\ 0 & C'\\end{matrix}\\right).\n",
    "$$\n",
    "\n",
    "Dacă este posibil să descompunem $L=L' \\oplus L''$ cu $L''$ invariant la rîndul său, atunci $B'=0$ și matricea lui $T$ este de forma \n",
    "$$\n",
    "\\left(\\begin{matrix}A' & 0 \\\\ 0 & C'\\end{matrix}\\right),\n",
    "$$\n",
    "unde $C'$ este matricea restricției lui $T$ la $L''$. Analog dacă $L=L_1 \\oplus \\dots \\oplus L_k$ cu fiecare subspațiu invariant, atunci matricea lui $T$ \n",
    "este bloc-diagonală\n",
    "$$\n",
    "\\left(\\begin{matrix}A_1 & 0 & \\ldots & 0 \\\\ 0 & A_2 & \\ldots & 0 \\\\ \\vdots & \\vdots & \\ddots & \\vdots \\\\ 0 & 0 & \\ldots & A_k\\end{matrix}\\right).\n",
    "$$\n",
    "\n",
    "Cel mai simplu caz este cel al unui subspațiu invariant de dimensiune $1$. În acest caz există un vector nenul $\\mathbf{e}$ și un scalar $\\lambda$ astfel \n",
    "încît $T(\\mathbf{e})=\\lambda\\mathbf{e}.$\n",
    "\n",
    "**Definiție** Dacă vectorul $\\mathbf{e}\\neq 0$ satisface relația de mai sus spunem că este **vector propriu**, iar scalarul $\\lambda$ se numește **valoare\n",
    "proprie**.\n",
    "\n",
    "Toți vectorii proprii corespunzători valorii proprii $\\lambda$ împreună cu $0$ formează un subspațiu vectorial, numit subspațiul propriu corespunzător lui $\\lambda$, notat\n",
    "cu $L_\\lambda$.\n",
    "\n",
    "### Cum calculăm practic vectorii și valorile proprii\n",
    "\n",
    "Luăm o bază arbitrară din $L$ și scriem matricea $A$ a lui $T$ în raport cu aceasta. Presupunem că vectorul propriu \n",
    "$\\mathbf{e}=x_1\\mathbf{e}_1+\\dots+x_m\\mathbf{e}_m$. Atunci $T(\\mathbf{e})$ va avea componentele \n",
    "$$\n",
    "A\\cdot\\left(\\begin{matrix}x_1 \\\\ \\vdots \\\\ x_m\\end{matrix}\\right)=\\lambda\\cdot\\left(\\begin{matrix}x_1 \\\\ \\vdots \\\\ x_m\\end{matrix}\\right).\n",
    "$$\n",
    "Prin urmare sistemul $(A-\\lambda I_m)\\mathbf{x}=0$ va trebui să aibă soluții nenule. Aceasta se întîmplă dacă și numai dacă $det(A-\\lambda I_m)=0$.\n",
    "Acesta este un polinom $P_A(\\lambda)$ de gradul $m$ în $\\lambda$, numit **polinomul caracteristic** al lui $A.$ \n",
    "\n",
    "În mod practic mai întîi determinăm rădăcinile polinomului caracteristic. Acestea vor fi valorile proprii, apoi pentru fiecare în parte rezolvăm sistemul \n",
    "corespunzător și obținem vectorii proprii.\n",
    "\n",
    "Proprietăți și observații:\n",
    " - Polinomul caracteristic nu depinde de alegerea bazei, ci doar de endomorfism;\n",
    " - Se poate ca un endomorfism să nu aibă vectori proprii (și deci nici valori proprii);\n",
    " - Dacă există o bază a lui $L$ formată din vectori proprii, atunci matricea lui $T$ va fi de forma\n",
    " $$\n",
    "\\left(\\begin{matrix}\\lambda_1 & 0 & \\ldots & 0 \\\\ 0 & \\lambda_2 & \\ldots & 0 \\\\ \\vdots & \\vdots & \\ddots & \\vdots \\\\ 0 & 0 & \\ldots & \\lambda_k\\end{matrix}\\right).\n",
    "$$\n",
    "și $T$ se numește diagonalizabil.\n",
    "  - Unei valori proprii $\\lambda$ îi putem asocia două numere: multiplicitate aritmetică $m_\\lambda$=multiplicitatea lui $\\lambda$ ca rădăcină a lui \n",
    "  $P_T(\\lambda)$ și multiplicitatea geometrică $g_\\lambda=\\text{dim }L_\\lambda$. Întotdeauna $g_\\lambda\\leq m_\\lambda;$\n",
    "  - la valori proprii distincte corespund vectori proprii liniar-independenți;\n",
    "  - Un endomorfism peste un spațiu complex este diagonalizabil dacă polinomul său caracteristic are doar rădăcini simple;\n",
    "  - Un endomorfism este diagonalizabil dacă și numai dacă $g_\\lambda=m_\\lambda$ pentru orice valoare proprie $\\lambda$.\n"
   ]
  },
  {
   "cell_type": "code",
   "execution_count": 2,
   "id": "c380177d-dad1-4807-9ea0-e3e95b113e44",
   "metadata": {},
   "outputs": [
    {
     "data": {
      "text/plain": [
       "[ 4 -1 -2]\n",
       "[ 2  1 -2]\n",
       "[ 1 -1  1]"
      ]
     },
     "execution_count": 2,
     "metadata": {},
     "output_type": "execute_result"
    }
   ],
   "source": [
    "A=matrix([[4,-1,-2],[2,1,-2],[1,-1,1]])\n",
    "A"
   ]
  },
  {
   "cell_type": "code",
   "execution_count": 3,
   "id": "f361a5e9-fe3e-43eb-8d87-6520feda2313",
   "metadata": {},
   "outputs": [
    {
     "data": {
      "text/plain": [
       "x^3 - 6*x^2 + 11*x - 6"
      ]
     },
     "execution_count": 3,
     "metadata": {},
     "output_type": "execute_result"
    }
   ],
   "source": [
    "P=A.charpoly()\n",
    "P"
   ]
  },
  {
   "cell_type": "code",
   "execution_count": 4,
   "id": "f1b5be55-ee12-4c6d-9716-1e6d92ec4483",
   "metadata": {},
   "outputs": [
    {
     "data": {
      "text/plain": [
       "(x - 3) * (x - 2) * (x - 1)"
      ]
     },
     "execution_count": 4,
     "metadata": {},
     "output_type": "execute_result"
    }
   ],
   "source": [
    "P.factor()"
   ]
  },
  {
   "cell_type": "code",
   "execution_count": 5,
   "id": "f382cf5d-cdfa-494b-aa2c-96594e7a75be",
   "metadata": {},
   "outputs": [
    {
     "data": {
      "text/plain": [
       "[3, 2, 1]"
      ]
     },
     "execution_count": 5,
     "metadata": {},
     "output_type": "execute_result"
    }
   ],
   "source": [
    "A.eigenvalues()"
   ]
  },
  {
   "cell_type": "code",
   "execution_count": 6,
   "id": "c0bd262b-0cbb-4639-ad0c-ba34a087af8b",
   "metadata": {},
   "outputs": [
    {
     "data": {
      "text/plain": [
       "[(3,\n",
       "  [\n",
       "  (1, 1, 0)\n",
       "  ],\n",
       "  1),\n",
       " (2,\n",
       "  [\n",
       "  (1, 0, 1)\n",
       "  ],\n",
       "  1),\n",
       " (1,\n",
       "  [\n",
       "  (1, 1, 1)\n",
       "  ],\n",
       "  1)]"
      ]
     },
     "execution_count": 6,
     "metadata": {},
     "output_type": "execute_result"
    }
   ],
   "source": [
    "A.eigenvectors_right()"
   ]
  },
  {
   "cell_type": "code",
   "execution_count": 7,
   "id": "e3b6c723-363e-4c80-ac80-28b10444a9d8",
   "metadata": {},
   "outputs": [],
   "source": [
    "B=matrix([[4,-4,2],[2,-2,1],[-4,4,-2]])"
   ]
  },
  {
   "cell_type": "code",
   "execution_count": 8,
   "id": "85737d10-d23e-42b7-8321-f3e15c09df72",
   "metadata": {},
   "outputs": [
    {
     "data": {
      "text/plain": [
       "x^3"
      ]
     },
     "execution_count": 8,
     "metadata": {},
     "output_type": "execute_result"
    }
   ],
   "source": [
    "P=B.charpoly()\n",
    "P"
   ]
  },
  {
   "cell_type": "code",
   "execution_count": 9,
   "id": "2a255e90-0c5f-4a32-a0c8-383f2400aed8",
   "metadata": {},
   "outputs": [
    {
     "data": {
      "text/plain": [
       "[(0,\n",
       "  [\n",
       "  (1, 0, -2),\n",
       "  (0, 1, 2)\n",
       "  ],\n",
       "  3)]"
      ]
     },
     "execution_count": 9,
     "metadata": {},
     "output_type": "execute_result"
    }
   ],
   "source": [
    "B.eigenvectors_right()"
   ]
  },
  {
   "cell_type": "code",
   "execution_count": 10,
   "id": "fb2ea468-af5c-484b-ba39-32c34609525b",
   "metadata": {},
   "outputs": [
    {
     "data": {
      "text/plain": [
       "[0 1|0]\n",
       "[0 0|0]\n",
       "[---+-]\n",
       "[0 0|0]"
      ]
     },
     "execution_count": 10,
     "metadata": {},
     "output_type": "execute_result"
    }
   ],
   "source": [
    "B.jordan_form()"
   ]
  },
  {
   "cell_type": "code",
   "execution_count": null,
   "id": "990a2a56-e953-4c0c-a1f3-e7395b56b371",
   "metadata": {},
   "outputs": [],
   "source": []
  }
 ],
 "metadata": {
  "kernelspec": {
   "display_name": "SageMath 10.1",
   "language": "sage",
   "name": "sagemath-dev"
  },
  "language_info": {
   "codemirror_mode": {
    "name": "ipython",
    "version": 3
   },
   "file_extension": ".py",
   "mimetype": "text/x-python",
   "name": "python",
   "nbconvert_exporter": "python",
   "pygments_lexer": "ipython3",
   "version": "3.13.2"
  },
  "widgets": {
   "application/vnd.jupyter.widget-state+json": {
    "state": {},
    "version_major": 2,
    "version_minor": 0
   }
  }
 },
 "nbformat": 4,
 "nbformat_minor": 5
}
