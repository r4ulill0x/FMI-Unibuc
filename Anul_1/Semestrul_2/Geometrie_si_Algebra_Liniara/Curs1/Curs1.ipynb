{
 "cells": [
  {
   "cell_type": "markdown",
   "id": "25289d56-2648-42df-8332-602af8e9a674",
   "metadata": {},
   "source": [
    "# Adresa de e-mail: halanay@fmi.unibuc.ro\n",
    "# Notebook-urile se află la: https://github.com/adhalanay/curs-id"
   ]
  },
  {
   "cell_type": "markdown",
   "id": "2fedfb53-aacc-4607-b3b4-7afcb74a1a93",
   "metadata": {},
   "source": [
    "## Sisteme Liniare"
   ]
  },
  {
   "cell_type": "markdown",
   "id": "0fe51b3d-9dae-4427-a0fe-010720c6be88",
   "metadata": {},
   "source": [
    "### Ecuații liniare"
   ]
  },
  {
   "cell_type": "markdown",
   "id": "918682ff-a8d8-450a-913c-652aafd9817a",
   "metadata": {},
   "source": [
    "Una dintre problemele fundamentale ale Algebrei Liniare este aceea de a studia mulțimea soluțiilor unui sistem liniar. Mai precis ne interesează să rezolvăm simultan mai multe ecuații liniare de forma \n",
    "$$\n",
    "\\left\\{\\begin{matrix} a_{11}x_1 & + & \\dots & + & a_{1n}x_n & = & b_1 \\\\\n",
    "a_{21}x_1 & + & \\dots & + & a_{2n}x_n & = & b_2 \\\\\n",
    "\\ldots\\\\\n",
    "a_{m1}x_1 & + & \\dots & + & a_{mn}x_n & = & b_m. \n",
    "\\end{matrix}\\right. (S1)\n",
    "$$\n",
    "\n",
    "Un astfel de sistem va fi scris mai pe scurt $A\\cdot\\mathbf{x}=\\mathbf{b}$, unde $A$ este o matrice cu $m$ linii și $n$ coloane, $\\mathbf{x}$ și $\\mathbf{b}$ sînt  matrice cu o coloană. Matricea $A$ se numește  *matricea sistemului*, $\\mathbf{x}$ se numește  *vectorul variabilelor*, iar $\\mathbf{b}$ se numește *vectorul termenilor constanți*. De asemenea vom folosi *matricea extinsă* a sistemului \n",
    "$$\n",
    "\\overline{A}=\\left(\\begin{matrix} a_{11} & \\dots & a_{1n} & b_1 \\\\ \n",
    "\\ldots \\\\\n",
    "a_{m1} & \\dots & a_{mn} & b_m \n",
    "\\end{matrix}\n",
    "\\right)\n",
    "$$\n",
    "\n",
    "Să ne uităm mai atent la expresia $a_1c_1+\\dots + a_nc_n$ atunci cînd lăsăm valorile $c_1,\\dots, c_n$ să varieze liber. Obținem astfel o funcție care asociază\n",
    "fiecărei linii $\\left(c_1,\\dots,c_n\\right)$ un număr. \n",
    "\n",
    "**Definiție** O funcție $F$ care asociază unei linii de lungime $n$ un număr și pentru care există niște coefiecienți $a_1, \\dots,a_n$ astfel încît $F(c_1,\\dots,c_n) = a_1c_1+\\dots + a_nc_n$ se numește **liniară**.\n",
    "\n",
    "Această definiție generalizează noțiunea de proporționalitate directă din cazul numerelor reale. Ca să exploatăm această analogie mai departe vom introduce niște operații pentru linii de numere:\n",
    "\n",
    "**Definiție** Fie $\\mathbf{c}$ și $\\mathbf{d}$ două linii de numere $\\mathbf{c}=\\left(c_1,\\dots,c_n\\right)$ și $\\mathbf{d}=\\left(d_1,\\dots,d_n\\right)$. Suma lor\n",
    "$\\mathbf{c}+\\mathbf{d}=\\left(c_1+d_1,\\dots,c_n+d_n\\right)$. Produsul dintre un număr $p$ și o linie $\\mathbf{c}$ este $p\\mathbf{c}=(pc_1,\\dots,pc_n)$.\n",
    "\n",
    "**Teoremă** O funcție este liniară dacă și numai dacă $F(\\mathbf{c}+\\mathbf{d})=F(\\mathbf{c})+F(\\mathbf{d})$ și $F(p\\mathbf{c})=pF(\\mathbf{c})$.\n",
    "\n",
    "Pentru două funcții liniare $F$ și $G$ definite pentru linii de aceeași lungime\n",
    "  - suma lor $F+G$ prin $(F+G)(\\mathbf{c})=F(\\mathbf{c})+G(\\mathbf{c});$\n",
    "  - produsul dintre o funcție $F$ și un număr $p$ prin $(pF)(\\mathbf{c})=p(F(\\mathbf{c})).$\n",
    "  \n",
    "Sistemul liniar $(S1)$ poate fi acum rescris cu ajutorul a $m$ funcții liniare:\n",
    "$$\n",
    "\\left\\{\\begin{matrix} F_1(\\mathbf{x}) & = & b_1 \\\\\n",
    "F_2(\\mathbf{x}) & = & b_2 \\\\\n",
    "\\ldots \\\\\n",
    "F_m(\\mathbf{x}) & = & b_m. \n",
    "\\end{matrix}\\right. \n",
    "$$\n",
    "cu $F_i(\\mathbf{x})=a_{i1}x_1+\\dots+a_{in}x_n.$\n",
    "\n",
    "O linie $\\mathbf{c}$ se numește soluție a sistemului dacă înlocuind $\\mathbf{x}$ cu $\\mathbf{c}$ în fiecare ecuație obținem identități: $F_1(\\mathbf{c})=b_1,\\dots,\n",
    "F_m(\\mathbf{c})=b_m$. \n",
    "\n",
    "Nu orice sistem are o soluție. Dacă sistemul are soluție, acesta se numește **compatibil**. Dacă nu are nici o soluție, sistemul se numește **incompatibil**. Un sistem compatibil avînd o singură soluție se numește **determinat**, iar dacă are mai multe **nedeterminat**.\n",
    "\n",
    "Sistemul \n",
    "$$\n",
    "\\left\\{\\begin{matrix} x  -  y & = & 0\\\\ \n",
    "x+y & = & 1.\\end{matrix}\\right.\n",
    "$$\n",
    "este determinat. Geometric poate fi intepretat ca punctul de intersecție a două drepte care nu sînt paralele. \n",
    "\n",
    "Pe de altă parte sistemul \n",
    "$$\n",
    "\\left\\{\\begin{matrix} x-2y & = & 3 \\\\ \n",
    "2x-4y & = & 6.\\end{matrix}\\right.\n",
    "$$\n",
    "este nedeterminat, a doua ecuație fiind doar prima înmulțită cu $2$. Se vede că pentru orice valoare a lui $y$ găsim $x=3+2y$. Sistemul are deci o infinitate de soluții.\n",
    "\n",
    "**Teoremă** Dacă un sistem este compatibil nedeterminat atunci are o infinitate de soluții.\n",
    "\n"
   ]
  },
  {
   "cell_type": "markdown",
   "id": "89da9997-2461-47b8-8ae4-304c22c61546",
   "metadata": {},
   "source": [
    "### Metoda Gauss"
   ]
  },
  {
   "cell_type": "markdown",
   "id": "8ee8ea31-3489-4dc2-8851-7c987e1ecd5a",
   "metadata": {},
   "source": [
    "Vom prezenta o metodă pentru a determina dacă un sistem este compatibil sau nu. Vom spune că două sisteme liniare sînt echivalente dacă au exact aceleași soluții.\n",
    "Ideea metodei Gauss este de a manipula ecuațiile unui sistem liniar pentru a obține un sistem echivalent, dar mai simplu. Operațiile pe care le facem sînt următoarele:\n",
    " - permutarea a două ecuații (tipul I);\n",
    " - adăugarea la una dintre ecuații a unei alte ecuații înmulțită cu un număr (tipul II).\n",
    " \n",
    " Se subînțelege că celelalte ecuații rămîn neschimbate. \n",
    " \n",
    " Acum putem prezenta algoritmul lui Gauss. Vom începe prin a permuta prima ecuație cu o ecuație avînd coeficientul din fața lui $x_1$ diferit de $0$. Dacă acest lucru nu este posibil, aceasta înseamnă că variabila $x_1$ nu apare explicit și vom renumerota variabilele astfel încît să obținem $a_{11} \\neq 0$.\n",
    " \n",
    " Acum aplicăm o serie de transformări de al doilea tip. Anume vom înmulți prima ecuație cu cîte un număr $c_2,c_3,\\dots,c_m$ și o vom adăuga la ecuațiile corespunzătoare astfel ca în fiecare din ele coeficientul lui $x_1$ să fie $0$. Evident avem $$c_2=-\\frac{a_{21}}{a_{11}},\\dots,c_m=-\\frac{a_{m1}}{a_{11}}.$$\n",
    " \n",
    " Obținem astfel un sistem de forma\n",
    " $$\n",
    " \\left\\{ \\begin{matrix} a_{11}x_1 & + & a_{12}x_2 & + & \\dots & + & a_{1n}x_n & = & b_1 \\\\\n",
    "  & & a'_{22}x_2 & + & \\dots & + & a'_{2n} x_n & = & b'_2 \\\\\n",
    "  \\ldots \\\\\n",
    "  & & a'_{m2}x_2 & + & \\dots & + & a'_{mn} x_n & = & b'_m\n",
    "  \\end{matrix}\n",
    "  \\right.\n",
    " $$\n",
    " \n",
    " Avem de rezolvat acum un sistem de $m-1$ ecuații și $n-1$ necunoscute. Dacă acest sistem este incompatibil atunci și sistemul  inițial este incompatibil. Dacă este determinat, atunci se poate cu ușurință calcula o soluție a sistemului total. Metoda Gauss ne permite să demonstrăm cîteva teoreme despre sistemele liniare:\n",
    " \n",
    " **Teoremă** Un sistem care are mai multe necunoscute decît ecuații este incompatibil sau nedeterminat.\n",
    " \n",
    " **Corolar** Dacă într-un sistem omogen (adică un sistem cu toți termenii liberi egali cu $0$) avem mai multe necunoscute decît ecuații atunci sistemul are o soluție diferită de soluția nulă.\n",
    " \n",
    " **Teoremă** Dacă un sistem are numărul de ecuații egal cu numărul de necunoscute, atunci are soluție unică sau nu indiferent de valorile termenilor liberi. \n",
    " \n",
    " **Corolar** (Alternativa lui Fredholm) Un sistem pătratic are soluție unică dacă și numai dacă sistemul omogen asociat are doar soluția nulă.\n",
    " \n",
    " Să privim mai de aproape metoda Gauss. Se poate întîmpla ca nu toate necunoscutele $x_2,\\dots,x_n$ să apară în sistemul redus, adică se poate ca toți coeficienții din fața unei necunoscute să fie $0$. Dacă $x_k$ este prima necunoscută care are un coeficient diferit de $0$ avem sistemul echivalent.\n",
    " \n",
    " $$\n",
    " \\left\\{\\begin{matrix}a_{11}x_1 & + & \\dots & \\dots & \\dots & \\dots & + & a_{1n}x_n & = & b_1 \\\\\n",
    " & & a'_{2k}x_k & + & \\dots & \\dots &  + & a_{2n}x_n & = &  b'_2 \\\\\n",
    " & & & a''_{3l}x_l & +& \\dots & + & a''_{3n}x_n & = & b''_3 \\\\\n",
    " \\ldots \\\\\n",
    " & & &  a''_{ml}x_l & + & \\dots & + & a''_{mn}x_n & = & b''_m \n",
    " \\end{matrix}\\right.\n",
    " $$\n",
    " Am ales deja $x_l$ astfel încît coeficientul său este diferit de $0$. Se pune întrebarea de cîte ori putem repeta acest procedeu? Ne oprim atunci cînd coeficienții tuturor necunoscutelor rămase sînt $0$. Sistemul final va fi\n",
    " $$\n",
    " \\left\\{\n",
    " \\begin{matrix}\n",
    " \\bar{a}_{11}x_1 & + & \\dots & \\dots & \\dots & \\dots & + & \\bar{a}_{1n}x_n & = & \\bar{b}_1 \\\\\n",
    " & & \\bar{a}_{2k}x_k & + & \\dots & \\dots & + & \\bar{a}_{2n}x_n & = & \\bar{b}_2 \\\\\n",
    " \\ldots \\\\\n",
    " & & & \\bar{a}_{rs}x_s & + & \\dots &  + & \\bar{a}_{rn}x_n & = & \\bar{b}_r \\\\\n",
    " & & & & & & & 0 & = & \\bar{b}_{r+1} \\\\\n",
    " & & & & & & & \\ldots \\\\\n",
    " & & & & & & & 0 & = & \\bar{b}_m. \n",
    " \\end{matrix}\n",
    " \\right.\n",
    " $$\n",
    " \n",
    " Uneori $m=r$ și atunci nu avem egalități de tipul $0=\\bar{b}_t$. Un sistem ca cel de mai sus spunem că este **în forma eșalon**.\n",
    " \n",
    " **Teoremă** Orice sistem liniar este echivalent cu unul în forma eșalon.\n",
    " \n",
    " Se vede că dacă în sistemul în formă eșalon avem $0=\\bar{b}_r$ cu $\\bar{b}_r \\neq 0$, atunci sistemul este incompatibil. Pe de altă parte dacă avem doar egalități de forma $0=0$ atunci numim necunoscutele $x_1,\\dots,x_s$ necunoscute principale, iar celelalte necunoscute, dacă există vor fi numite secundare sau libere. Dînd valori arbitrare necunoscutelor secundare obținem valori corespunzătoare pentru cele principale.\n",
    " \n",
    " Un sistem fără necunoscute secundare care este compatibil va fi determinat. Avem următorul rezultat \n",
    " \n",
    " **Teoremă** Un sistem compatibil este determinat dacă și numai dacă forma sa eșalon este\n",
    " $$\n",
    " \\left\\{\\begin{matrix} \\bar{a}_{11}x_1 & + & \\bar{a}_{12}x_2 & + & \\dots \\dots \\dots & + & \\bar{a}_{1n}x_n & = & \\bar{b}_1 \\\\\n",
    " & & \\bar{a}_{22}x_2 & + & \\dots \\dots \\dots & + & \\bar{a}_{2n}x_n & = & \\bar{b}_2 \\\\\n",
    " \\ldots \\\\\n",
    " & & & & & & \\bar{a}_{nn}x_n & = & \\bar{b}_n.\n",
    " \\end{matrix} \\right.\n",
    " $$\n",
    " \n",
    " Un sistem pătratic este compatibil determinat dacă și numai dacă toate elementele de pe diagonală în forma eșalon sînt nenule."
   ]
  },
  {
   "cell_type": "markdown",
   "id": "ad386e8c-eefc-4a77-a44e-fc344cecc813",
   "metadata": {},
   "source": [
    "## Matrice și determinanți"
   ]
  },
  {
   "cell_type": "markdown",
   "id": "e7da3dc3-90dd-4d8b-ae7c-8eb23f122372",
   "metadata": {},
   "source": [
    "Pentru început considerăm sistemul\n",
    "\n",
    "$$\n",
    "\\left\\{\\begin{matrix}a_{11}x_1 & + & a_{12}x_2 &=& b_1 \\\\\n",
    "a_{21}x_1 & + & a_{22}x_2 & = & b_2. \\end{matrix}\\right.\n",
    "$$\n",
    "\n",
    "Ca să rezolvăm sistemul putem începe prin a elimina $x_2$. Pentru a aceasta înmulțim prima ecuație cu $a_{22}$ și o adunăm cu a doua înmulțită cu $-a_{12}$. Obținem că $\\left(a_{11}a_{22}-a_{12}a_{21}\\right)x_1=b_1a_{22}-b_2a_{12}.$ Dacă $a_{11}a_{22}-a_{12}a_{21} \\neq 0$ atunci $x_1=\\frac{b_1a_{22}-b_2a_{12}}{a_{11}a_{22}-a_{12}a_{21}}.$ La fel $x_2=\\frac{b_2a_{11}-b_1a_{21}}{a_{11}a_{22}-a_{12}a_{21}}.$ Numărul $a_{11}a_{22}-a_{12}a_{21}$ se numește determinantul\n",
    "matricei\n",
    "\n",
    "$$\n",
    "\\left(\\begin{matrix}a_{11} & a_{12} \\\\\n",
    "a_{21} & a_{22}\\end{matrix}\\right),\n",
    "$$\n",
    "\n",
    "notat\n",
    "$$\n",
    "\\left|\\begin{matrix}a_{11} & a_{12} \\\\\n",
    "a_{21} & a_{22}\\end{matrix}\\right|.\n",
    "$$\n",
    "\n",
    "Cu această notație avem\n",
    "$$\n",
    "x_1=\\frac{\\left|\\begin{matrix}b_{1} & a_{12} \\\\\n",
    "b_{2} & a_{22}\\end{matrix}\\right|}{\\left|\\begin{matrix}a_{11} & a_{12} \\\\\n",
    "a_{21} & a_{22}\\end{matrix}\\right|}, \\quad\n",
    "x_2=\\frac{\\left|\\begin{matrix} a_{11} & b_{1} \\\\\n",
    "a_{21} & b_{2}\\end{matrix}\\right|}{\\left|\\begin{matrix}a_{11} & a_{12} \\\\\n",
    "a_{21} & a_{22}.\\end{matrix}\\right|}.\n",
    "$$\n",
    "\n",
    "La fel se procedează pentru sisteme de dimensiune $3$. \n",
    "\n",
    "Fie acum \n",
    "$$\n",
    "A=\\left(\\begin{matrix}a_{11} & \\dots & \\dots & a_{1n} \\\\\n",
    "\\vdots & \\vdots & \\ddots & \\vdots \\\\\n",
    "a_{n1} & \\dots & \\dots & a_{nn} \\end{matrix}\\right)\n",
    "$$\n",
    "\n",
    "Determinantul lui $A$ va fi definit prin inducție:\n",
    "\n",
    "  - pentru $n=1$ este $a_{11};$\n",
    "  - dacă știm să calculăm determinantul de ordin $n-1$ atunci definim \n",
    "  $$\n",
    "  det(A)=a_{11}D_1-a_{21}D_2+\\dots+(-1)^{n+1}a_{n1}D_n,\n",
    "  $$\n",
    "  unde $D_k$ este determinantul de ordinul $n-1$ obținut din $A$ prin scoaterea primei coloane și a liniei $k$.\n",
    "  \n",
    "Proprietățile fundamentale ale determinaților :\n",
    "\n",
    "   1. Determinantul este o funcție liniară de elementele unei linii a matricei;\n",
    "   2. Transpoziția a două linii schimbă semnul determinantului;\n",
    "   3. Determinantul matricei identitate $I_n$ este $1$ ($I_n$ are $1$ pe diagonală și $0$ în rest);\n",
    "   4. Dacă două linii ale matricei sînt proporționale atunci determinantul este $0$;\n",
    "   5. Dacă efectuăm o transformare elementară de tipul II pe liniile matricei determinantul nu se schimbă;\n",
    "   6. Determinantul unei matrice este egal cu determinantul transpusei.\n",
    "   \n",
    " Cu aceste proprietăți avem o metodă simplă de calcul pentru determinanți. Matricea $A$ poate fi adusă printr-o serie de transformări elementare la forma superior\n",
    " triunghiulară \n",
    " $$\n",
    " A=\\left(\\begin{matrix}a'_{11} & a'_{12} & \\dots & a'_{1n} \\\\\n",
    " 0 & a'_{22} & \\dots & a'_{2n} \\\\\n",
    " \\vdots & \\vdots & \\ddots & \\vdots \\\\\n",
    " 0 & 0 & \\dots & a'_{nn}\n",
    " \\end{matrix}\\right),\n",
    " $$\n",
    " \n",
    " atunci determinantul lui $A$ este pînă la un semn egal cu produsul $a'_{11}\\dots a'_{nn}.$ \n",
    " \n",
    " **Teoremă** Un sistem de $n$ ecuații și $n$ necunoscute are soluție unică dacă și numai dacă determinantul matricei sistemului este nenul.\n",
    " \n",
    " **Definiție** O matrice pătratică al cărei determinant este nul se numește *singulară*, iar una al cărei determinant este diferit de $0$ va fi numită *nesingulară*.\n",
    " \n",
    " **Teoremă** Fie $F$ o funcție de matrice pătratice care satisface proprietățile 1. și 2. și este liniară față de linii. Atunci există un număr $k$ astfel încît\n",
    " $F(A)=k\\cdot det(A)$ pentru orice matrice $A$.\n",
    " \n",
    " Cu ajutorul determinanților putem da o formulă generală pentru soluția unui sistem liniar pătratic al cărui determinant $D$ este nenul:\n",
    " \n",
    " $$\n",
    " x_k=\\frac{D_k}{D}, \\quad k=1,\\dots, n\n",
    " $$\n",
    " unde $D_k$ este determinantul care se obține înlocuind coloana $k$ a matricei sistemului cu coloana termenilor liberi. "
   ]
  },
  {
   "cell_type": "markdown",
   "id": "d92b296b-757f-42b7-a9f3-261f204e709a",
   "metadata": {},
   "source": [
    "### Rangul unei matrice. Operații cu matrice"
   ]
  },
  {
   "cell_type": "markdown",
   "id": "1f18a916-04ff-457a-a2be-77e83d6c8f00",
   "metadata": {},
   "source": [
    "Fie matricea\n",
    "$$\n",
    "A=\\left(\\begin{matrix}a_{11} & \\dots & a_{1m} \\\\\n",
    "\\vdots & \\ddots & \\vdots \\\\\n",
    "a_{n1} & \\dots & a_{nm}\n",
    "\\end{matrix}\\right).\n",
    "$$\n",
    "\n",
    "Un minor de ordin $r$ al matricei $A$ este determinantul de ordinul $r$ obținut prin eliminarea tuturor termenilor lui $A$ cu excepția a celor aflați la intersecția a $r$ linii și $r$ coloane. Evident trebuie ca $r \\leq m$ și $r \\leq n$.\n",
    "\n",
    "**Definiție** Rangul matricei $A$ este cel mai mare $r$ pentru care există un minor de ordinul $r$ nenul.\n",
    "\n",
    "Avem\n",
    "\n",
    "   1. Rangul unei matrice coincide cu rangul transpusei sale;\n",
    "   2. Rangul unei matrice nu se schimbă dacă aplicăm transformări elementare;\n",
    "   \n",
    "Rangul ne permite să dăm un criteriu pentru rezolubilitatea unui sistem liniar:\n",
    "\n",
    "**Teoremă** (Kronecker-Capelli) Sistemul liniar $A\\mathbf{x} = \\mathbf{b}$ este compatibil dacă și numai dacă rangul lui $A$ este egal cu rangul lui $\\bar{A}$. "
   ]
  },
  {
   "cell_type": "markdown",
   "id": "09047a61-840b-4e6b-af2e-e0a35f7f0cb0",
   "metadata": {},
   "source": [
    "## Operații cu matrice"
   ]
  },
  {
   "cell_type": "markdown",
   "id": "cf69e70f-de04-4614-8d62-cf347942b67c",
   "metadata": {},
   "source": [
    "   1. Fie $A$ o matrice de tip $(m,n)$ și $p$ un număr. Produsul $pA$ este matricea de tip $(m,n)$ obținută înmulțind toți coeficienții lui $A$ cu $p;$\n",
    "   2. Fie $A$ și $B$ două matrice de tip $(m,n)$, $A=\\left(a_{ij}\\right)$, $B=\\left(b_{ij}\\right)$. Suma celor două matrice este matricea $C=A+B$, de tip \n",
    "   $(m,n)$, $C=\\left(c_{ij}\\right)$ cu $c_{ij}=a_{ij}+b_{ij}$;\n",
    "   3. Fie acum $A$ de tip $(m,n)$, $B$ de tip $(n,k)$. Produsul lor $C$ este o matrice de tip $(m,k)$ cu $c_{ij}=a_{i1}b_{1j}+a_{i2}b_{2j}+\\dots+a_{im}b_{mj}.$\n",
    "   \n",
    "Aceste operații satisfac un număr de proprietăți fundamentale:\n",
    "\n",
    "  1. Adunarea este comutativă și asociativă, iar matricea cu toate elementele nule este elementul neutru;\n",
    "  2. Înmulțirea matricelor este asociativă;\n",
    "  3. Dacă ne limităm la matrice pătratice, matricea $I_n$, care are $1$ pe diagonală și în rest $0$ este element neutru la înmulțire;\n",
    "  4. Dacă $A$ și $B$ sînt matrice pătratice, atunci $det(AB)=det(A)det(B);$\n",
    "  5. Tot pentru matrice pătratice : dacă determinantul matricei $A$ este diferit de $0$, există și este unică o matrice $A^{-1}$ cu proprietatea că $AA^{-1}=A^{-1}A=I_n.$\n",
    "  6. Înmulțirea este distributivă față de adunare: $A(B+C)=AB+BC$ și $(A+B)C=AC+BC;$\n",
    "  7. $A*(pB)=p(A*B).$"
   ]
  },
  {
   "cell_type": "code",
   "execution_count": 25,
   "id": "3f95d91b",
   "metadata": {},
   "outputs": [
    {
     "data": {
      "text/plain": [
       "[1.00000000000000 2.00000000000000]\n",
       "[1.00000000000000 3.00000000000000]\n",
       "[2.00000000000000 1.00000000000000]"
      ]
     },
     "execution_count": 25,
     "metadata": {},
     "output_type": "execute_result"
    }
   ],
   "source": [
    "A=matrix(RR,[[1,2],[1,3],[2,1]])\n",
    "A"
   ]
  },
  {
   "cell_type": "code",
   "execution_count": 26,
   "id": "9f8aa289",
   "metadata": {},
   "outputs": [
    {
     "data": {
      "text/plain": [
       "[ 1.00000000000000  2.00000000000000 0.000000000000000]\n",
       "[ 1.00000000000000  1.00000000000000  2.00000000000000]"
      ]
     },
     "execution_count": 26,
     "metadata": {},
     "output_type": "execute_result"
    }
   ],
   "source": [
    "B=matrix(RR,[[1,2,0],[1,1,2]])\n",
    "B"
   ]
  },
  {
   "cell_type": "code",
   "execution_count": 27,
   "id": "24f19568",
   "metadata": {},
   "outputs": [
    {
     "data": {
      "text/plain": [
       "[3.00000000000000 4.00000000000000 4.00000000000000]\n",
       "[4.00000000000000 5.00000000000000 6.00000000000000]\n",
       "[3.00000000000000 5.00000000000000 2.00000000000000]"
      ]
     },
     "execution_count": 27,
     "metadata": {},
     "output_type": "execute_result"
    }
   ],
   "source": [
    "C=A*B\n",
    "C"
   ]
  },
  {
   "cell_type": "code",
   "execution_count": 28,
   "id": "51b3a4ae",
   "metadata": {},
   "outputs": [
    {
     "data": {
      "text/plain": [
       "0.000000000000000"
      ]
     },
     "execution_count": 28,
     "metadata": {},
     "output_type": "execute_result"
    }
   ],
   "source": [
    "det(C)"
   ]
  },
  {
   "cell_type": "code",
   "execution_count": 30,
   "id": "cda102cc-065b-44d3-a73d-0fa8216ca839",
   "metadata": {},
   "outputs": [
    {
     "data": {
      "text/plain": [
       "3"
      ]
     },
     "execution_count": 30,
     "metadata": {},
     "output_type": "execute_result"
    }
   ],
   "source": [
    "C.rank()"
   ]
  },
  {
   "cell_type": "code",
   "execution_count": 24,
   "id": "4fad7203-5761-4bd0-bfc9-dfe713647215",
   "metadata": {},
   "outputs": [
    {
     "data": {
      "text/plain": [
       "[3 8]\n",
       "[6 7]"
      ]
     },
     "execution_count": 24,
     "metadata": {},
     "output_type": "execute_result"
    }
   ],
   "source": [
    "B*A"
   ]
  },
  {
   "cell_type": "code",
   "execution_count": 28,
   "id": "0be49542",
   "metadata": {},
   "outputs": [
    {
     "data": {
      "text/plain": [
       "[-0.259259259259259  0.296296296296296]\n",
       "[ 0.222222222222222 -0.111111111111111]"
      ]
     },
     "execution_count": 28,
     "metadata": {},
     "output_type": "execute_result"
    }
   ],
   "source": [
    "D1=(B*A).inverse()\n",
    "D1"
   ]
  },
  {
   "cell_type": "code",
   "execution_count": 29,
   "id": "11801b14",
   "metadata": {},
   "outputs": [
    {
     "data": {
      "text/plain": [
       "[3.00000000000000 8.00000000000000]\n",
       "[6.00000000000000 7.00000000000000]"
      ]
     },
     "execution_count": 29,
     "metadata": {},
     "output_type": "execute_result"
    }
   ],
   "source": [
    "D2=B*A\n",
    "D2"
   ]
  },
  {
   "cell_type": "code",
   "execution_count": 30,
   "id": "1e7ba7c6",
   "metadata": {},
   "outputs": [
    {
     "data": {
      "text/plain": [
       "[    1.00000000000000 4.44089209850063e-16]\n",
       "[   0.000000000000000     1.00000000000000]"
      ]
     },
     "execution_count": 30,
     "metadata": {},
     "output_type": "execute_result"
    }
   ],
   "source": [
    "D1*D2"
   ]
  },
  {
   "cell_type": "code",
   "execution_count": 31,
   "id": "0eec835f",
   "metadata": {},
   "outputs": [
    {
     "data": {
      "text/plain": [
       "[    1.00000000000000    0.000000000000000]\n",
       "[2.22044604925031e-16     1.00000000000000]"
      ]
     },
     "execution_count": 31,
     "metadata": {},
     "output_type": "execute_result"
    }
   ],
   "source": [
    "D2*D1"
   ]
  },
  {
   "cell_type": "code",
   "execution_count": 31,
   "id": "7ac808a2",
   "metadata": {},
   "outputs": [
    {
     "data": {
      "text/plain": [
       "5.55111512312578e-17"
      ]
     },
     "execution_count": 31,
     "metadata": {},
     "output_type": "execute_result"
    }
   ],
   "source": [
    "0.1+0.2-0.3"
   ]
  },
  {
   "cell_type": "code",
   "execution_count": 33,
   "id": "0f11c179",
   "metadata": {},
   "outputs": [],
   "source": [
    "C1=matrix(QQ,[[1,2],[2,3]])\n",
    "C2=matrix(QQ,[[1,-1],[-1,-1]])"
   ]
  },
  {
   "cell_type": "code",
   "execution_count": 35,
   "id": "4e058293",
   "metadata": {},
   "outputs": [
    {
     "data": {
      "text/plain": [
       "(1, 2)"
      ]
     },
     "execution_count": 35,
     "metadata": {},
     "output_type": "execute_result"
    }
   ],
   "source": [
    "b=vector(QQ,[1,2])\n",
    "b"
   ]
  },
  {
   "cell_type": "code",
   "execution_count": 36,
   "id": "27f79c19",
   "metadata": {},
   "outputs": [
    {
     "data": {
      "text/plain": [
       "(-1, -3)"
      ]
     },
     "execution_count": 36,
     "metadata": {},
     "output_type": "execute_result"
    }
   ],
   "source": [
    "C2*b"
   ]
  },
  {
   "cell_type": "code",
   "execution_count": 37,
   "id": "e8216724",
   "metadata": {},
   "outputs": [
    {
     "data": {
      "text/plain": [
       "[2 1]\n",
       "[1 2]"
      ]
     },
     "execution_count": 37,
     "metadata": {},
     "output_type": "execute_result"
    }
   ],
   "source": [
    "C1+C2"
   ]
  },
  {
   "cell_type": "code",
   "execution_count": 38,
   "id": "b9ee9195",
   "metadata": {},
   "outputs": [
    {
     "data": {
      "text/plain": [
       "[3 6]\n",
       "[6 9]"
      ]
     },
     "execution_count": 38,
     "metadata": {},
     "output_type": "execute_result"
    }
   ],
   "source": [
    "3*C1"
   ]
  },
  {
   "cell_type": "code",
   "execution_count": 12,
   "id": "044a4761",
   "metadata": {},
   "outputs": [
    {
     "data": {
      "text/plain": [
       "6"
      ]
     },
     "execution_count": 12,
     "metadata": {},
     "output_type": "execute_result"
    }
   ],
   "source": [
    "D=matrix(QQ,[[1,1,-1],[3,1,2],[1,-1,1]])\n",
    "det(D)"
   ]
  },
  {
   "cell_type": "code",
   "execution_count": 8,
   "id": "1992ff9b-1869-4c19-a219-4092ce1c29da",
   "metadata": {},
   "outputs": [
    {
     "data": {
      "text/plain": [
       "33"
      ]
     },
     "execution_count": 8,
     "metadata": {},
     "output_type": "execute_result"
    }
   ],
   "source": [
    "D1=matrix(QQ,[[5,1,-1],[4,1,2],[6,-1,1]])\n",
    "det(D1)"
   ]
  },
  {
   "cell_type": "code",
   "execution_count": 10,
   "id": "b0180382-377a-414f-8042-af5d69f37ea9",
   "metadata": {},
   "outputs": [
    {
     "data": {
      "text/plain": [
       "-27"
      ]
     },
     "execution_count": 10,
     "metadata": {},
     "output_type": "execute_result"
    }
   ],
   "source": [
    "D2=matrix(QQ,[[1,5,-1],[3,4,2],[1,6,1]])\n",
    "det(D2)"
   ]
  },
  {
   "cell_type": "code",
   "execution_count": 13,
   "id": "5f1eb268-efed-42b9-b40f-2545093b20f8",
   "metadata": {},
   "outputs": [
    {
     "data": {
      "text/plain": [
       "-24"
      ]
     },
     "execution_count": 13,
     "metadata": {},
     "output_type": "execute_result"
    }
   ],
   "source": [
    "D3=matrix(QQ,[[1,1,5],[3,1,4],[1,-1,6]])\n",
    "det(D3)"
   ]
  },
  {
   "cell_type": "code",
   "execution_count": 15,
   "id": "7a7e8d90-a69b-4c14-9d8d-81a5a9b1be0f",
   "metadata": {},
   "outputs": [
    {
     "data": {
      "text/plain": [
       "11/2"
      ]
     },
     "execution_count": 15,
     "metadata": {},
     "output_type": "execute_result"
    }
   ],
   "source": [
    "x1=det(D1)/det(D)\n",
    "x1"
   ]
  },
  {
   "cell_type": "code",
   "execution_count": 18,
   "id": "e0482e29-ba27-40c6-b6d3-ee6cf72e138a",
   "metadata": {},
   "outputs": [
    {
     "data": {
      "text/plain": [
       "[1 0 0]\n",
       "[0 1 0]\n",
       "[0 0 1]"
      ]
     },
     "execution_count": 18,
     "metadata": {},
     "output_type": "execute_result"
    }
   ],
   "source": [
    "D.echelonize()\n",
    "D"
   ]
  },
  {
   "cell_type": "code",
   "execution_count": 19,
   "id": "19eac8cd-3aee-4973-9e0c-ca8a75382523",
   "metadata": {},
   "outputs": [
    {
     "data": {
      "text/plain": [
       "[ 1  1 -1]\n",
       "[ 2  3 -2]\n",
       "[ 3  2 -3]"
      ]
     },
     "execution_count": 19,
     "metadata": {},
     "output_type": "execute_result"
    }
   ],
   "source": [
    "M=matrix(QQ,[[1,1,-1],[2,3,-2],[3,2,-3]])\n",
    "M"
   ]
  },
  {
   "cell_type": "code",
   "execution_count": 20,
   "id": "d52ee227-71d6-44aa-aa5a-8b314bbed4b7",
   "metadata": {},
   "outputs": [
    {
     "data": {
      "text/plain": [
       "0"
      ]
     },
     "execution_count": 20,
     "metadata": {},
     "output_type": "execute_result"
    }
   ],
   "source": [
    "det(M)"
   ]
  },
  {
   "cell_type": "code",
   "execution_count": 21,
   "id": "756f9f6d-d18c-4c1b-a392-0f96b3982ba3",
   "metadata": {},
   "outputs": [
    {
     "data": {
      "text/plain": [
       "2"
      ]
     },
     "execution_count": 21,
     "metadata": {},
     "output_type": "execute_result"
    }
   ],
   "source": [
    "M.rank()"
   ]
  },
  {
   "cell_type": "code",
   "execution_count": 22,
   "id": "ef5ac1d2-38cb-4f51-9470-0cfc88b01242",
   "metadata": {},
   "outputs": [
    {
     "data": {
      "text/plain": [
       "0.000000000000000"
      ]
     },
     "execution_count": 22,
     "metadata": {},
     "output_type": "execute_result"
    }
   ],
   "source": [
    "Mr = matrix(RR,[[1,1,-1],[2,3,-2],[3,2,-3]])\n",
    "det(Mr)"
   ]
  },
  {
   "cell_type": "code",
   "execution_count": 24,
   "id": "b76aeab8-3875-494e-bb7e-ada715412ae7",
   "metadata": {},
   "outputs": [
    {
     "data": {
      "text/plain": [
       "2"
      ]
     },
     "execution_count": 24,
     "metadata": {},
     "output_type": "execute_result"
    }
   ],
   "source": [
    "Mr.rank()"
   ]
  },
  {
   "cell_type": "code",
   "execution_count": 32,
   "id": "78478781-c0a7-4813-bcd6-0c6c2ee0306e",
   "metadata": {},
   "outputs": [],
   "source": [
    "A=matrix(QQ,[[1,1,-1],[2,3,3],[1,-1,-3]])"
   ]
  },
  {
   "cell_type": "code",
   "execution_count": 33,
   "id": "38e05972-ee52-4c0d-b081-0c6189fccb9b",
   "metadata": {},
   "outputs": [
    {
     "data": {
      "text/plain": [
       "[-3/4  1/2  3/4]\n",
       "[ 9/8 -1/4 -5/8]\n",
       "[-5/8  1/4  1/8]"
      ]
     },
     "execution_count": 33,
     "metadata": {},
     "output_type": "execute_result"
    }
   ],
   "source": [
    "A.inverse()"
   ]
  },
  {
   "cell_type": "code",
   "execution_count": null,
   "id": "94faecdf-4e44-4e4a-b410-d11f072a474d",
   "metadata": {},
   "outputs": [],
   "source": []
  }
 ],
 "metadata": {
  "kernelspec": {
   "display_name": "SageMath 10.1",
   "language": "sage",
   "name": "sagemath-dev"
  },
  "language_info": {
   "codemirror_mode": {
    "name": "ipython",
    "version": 3
   },
   "file_extension": ".py",
   "mimetype": "text/x-python",
   "name": "python",
   "nbconvert_exporter": "python",
   "pygments_lexer": "ipython3",
   "version": "3.13.2"
  }
 },
 "nbformat": 4,
 "nbformat_minor": 5
}
